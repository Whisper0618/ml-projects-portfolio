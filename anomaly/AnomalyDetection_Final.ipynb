{
  "nbformat": 4,
  "nbformat_minor": 0,
  "metadata": {
    "colab": {
      "provenance": []
    },
    "kernelspec": {
      "name": "python3",
      "display_name": "Python 3"
    },
    "language_info": {
      "name": "python"
    }
  },
  "cells": [
    {
      "cell_type": "markdown",
      "source": [
        "# IMPORT STATEMENTS"
      ],
      "metadata": {
        "id": "gyeCJTkH79db"
      }
    },
    {
      "cell_type": "code",
      "execution_count": null,
      "metadata": {
        "collapsed": true,
        "id": "2f2XVO8kEhGu"
      },
      "outputs": [],
      "source": [
        "import pandas as pd\n",
        "import numpy as np\n",
        "import matplotlib.pyplot as plt\n",
        "import seaborn as sns\n",
        "from sklearn.preprocessing import StandardScaler\n",
        "from sklearn.ensemble import IsolationForest\n",
        "from sklearn.svm import OneClassSVM\n",
        "from sklearn.neighbors import LocalOutlierFactor\n",
        "\n",
        "from sklearn.metrics import confusion_matrix, classification_report, roc_auc_score"
      ]
    },
    {
      "cell_type": "markdown",
      "source": [
        "# DATASET PREPARATION"
      ],
      "metadata": {
        "id": "wk0S5D7b75GW"
      }
    },
    {
      "cell_type": "code",
      "source": [
        "#Load the dataset\n",
        "df = pd.read_csv('Accidental_Drug_Related_Deaths_Cleaned.csv')\n",
        "\n",
        "drug_columns = [\n",
        "      'Heroin', 'Cocaine', 'Fentanyl', 'Oxycodone', 'Oxymorphone',\n",
        "      'Ethanol', 'Hydrocodone', 'Benzodiazepine', 'Methadone', 'Meth/Amphetamine', 'Amphet',\n",
        "      'Tramad', 'Hydromorphone', 'Morphine', 'Xylazine', 'Gabapentin',\n",
        "      'Opiate NOS', 'Opioid'\n",
        "]\n",
        "\n",
        "#Making a copy of the datafram\n",
        "features = drug_columns\n",
        "drug_df = df[features].copy()\n",
        "\n",
        "#Feature engineering for drug count\n",
        "df['drug_count'] = drug_df.sum(axis=1)\n",
        "weight_factor = 10 #creates more emphasis\n",
        "df['weighted_drug_count'] = df['drug_count'] * weight_factor\n",
        "\n",
        "#Scaling the dataset and adding the weighted drug count\n",
        "scaler = StandardScaler()\n",
        "drug_df_scaled = scaler.fit_transform(drug_df)\n",
        "drug_df_final = drug_df_scaled\n",
        "drug_df_final = np.concatenate([drug_df_final, df[['weighted_drug_count']].values], axis=1)"
      ],
      "metadata": {
        "id": "Vaeo67jJH4L8"
      },
      "execution_count": null,
      "outputs": []
    },
    {
      "cell_type": "markdown",
      "source": [
        "# IMPLEMENTING ISOLATION FOREST"
      ],
      "metadata": {
        "id": "O9iBpy4Veg3P"
      }
    },
    {
      "cell_type": "code",
      "source": [
        "#TODO : IMPLEMENT ISOLATION FOREST\n",
        "#Initialize the Isolation Forest model\n",
        "iso_forest_model = IsolationForest(n_estimators=400,\n",
        "                                   max_samples=0.5,\n",
        "                                   contamination=0.5,\n",
        "                                   max_features=1.0,\n",
        "                                   bootstrap=True,\n",
        "                                   random_state=42)\n",
        "iso_forest_model.fit(drug_df_final)\n",
        "\n",
        "#Predict anomalies (-1 for anomaly, 1 for normal)\n",
        "iso_pred = iso_forest_model.predict(drug_df_final)\n",
        "df['iso_pred'] = iso_pred\n",
        "#Calculate the percentage of anomalies\n",
        "anomaly_count = (df['iso_pred'] == -1).sum()\n",
        "total_count = len(df)\n",
        "anomaly_percentage = (anomaly_count / total_count) * 100\n",
        "print(f\"\\nAnomalies Detected: {anomaly_count} ({anomaly_percentage:.2f}%)\")\n",
        "\n",
        "# #printing the detected anomalies too see whether or not it worked properly\n",
        "anomalies = df[df['iso_pred'] == -1]\n",
        "#Display the first 5 anomalies\n",
        "print(\"Anomalies Detected by Isolation Forest:\")\n",
        "print(anomalies.head(10))"
      ],
      "metadata": {
        "colab": {
          "base_uri": "https://localhost:8080/"
        },
        "id": "tXDVOLcTHr4-",
        "outputId": "46bc4f58-34c2-4bca-bab4-9f6efd599e6a"
      },
      "execution_count": null,
      "outputs": [
        {
          "output_type": "stream",
          "name": "stdout",
          "text": [
            "\n",
            "Anomalies Detected: 4458 (49.71%)\n",
            "Anomalies Detected by Isolation Forest:\n",
            "     Age                                     Cause of Death  Heroin  Cocaine  \\\n",
            "5   26.0                          Acute Opioid Intoxication       0        0   \n",
            "6   64.0                       Acute Oxycodone Intoxication       0        0   \n",
            "11  30.0              Acute Heroin and Cocaine Intoxication       1        1   \n",
            "12  49.0                        Ethanol and Heroin Toxicity       1        0   \n",
            "16  42.0           Acute Xylazine And Fentanyl Intoxication       0        0   \n",
            "18  28.0          Acute 2-Aminoindane/2-Indanamine Toxicity       0        0   \n",
            "22  35.0  Acute intoxication due to the combined effects...       0        0   \n",
            "24  48.0  Acute intoxication due to the combined effects...       1        0   \n",
            "26  37.0  Acute Intoxication by the Combined Effects of ...       0        0   \n",
            "27  49.0        Acute and Chronic Substance Abuse (Opioids)       0        0   \n",
            "\n",
            "    Fentanyl  Oxycodone  Oxymorphone  Ethanol  Hydrocodone  Benzodiazepine  \\\n",
            "5          0          0            0        0            0               0   \n",
            "6          0          1            0        0            0               0   \n",
            "11         0          0            0        0            0               0   \n",
            "12         0          0            0        1            0               0   \n",
            "16         1          0            0        0            0               0   \n",
            "18         0          0            0        0            0               0   \n",
            "22         1          0            0        0            0               0   \n",
            "24         1          0            0        0            0               1   \n",
            "26         1          0            0        1            0               1   \n",
            "27         0          0            0        0            0               0   \n",
            "\n",
            "    ...  Location_Hospital  Location_Hospital - ER/Outpatient  \\\n",
            "5   ...               True                              False   \n",
            "6   ...              False                              False   \n",
            "11  ...               True                              False   \n",
            "12  ...              False                              False   \n",
            "16  ...              False                              False   \n",
            "18  ...              False                              False   \n",
            "22  ...              False                               True   \n",
            "24  ...               True                              False   \n",
            "26  ...              False                              False   \n",
            "27  ...               True                              False   \n",
            "\n",
            "    Location_Hospital - Inpatient  Location_Other  Location_Residence  \\\n",
            "5                           False           False               False   \n",
            "6                           False           False                True   \n",
            "11                          False           False               False   \n",
            "12                          False           False                True   \n",
            "16                          False            True               False   \n",
            "18                          False           False                True   \n",
            "22                          False           False               False   \n",
            "24                          False           False               False   \n",
            "26                          False            True               False   \n",
            "27                          False           False               False   \n",
            "\n",
            "    drug_count  weighted_drug_count  iso_pred  iso_pred_binary  true_label  \n",
            "5            1                   10        -1                1           1  \n",
            "6            2                   20        -1                1           1  \n",
            "11           4                   40        -1                1           1  \n",
            "12           3                   30        -1                1           1  \n",
            "16           3                   30        -1                1           1  \n",
            "18           1                   10        -1                1           1  \n",
            "22           3                   30        -1                1           1  \n",
            "24           6                   60        -1                1           1  \n",
            "26           5                   50        -1                1           1  \n",
            "27           3                   30        -1                1           1  \n",
            "\n",
            "[10 rows x 53 columns]\n"
          ]
        }
      ]
    },
    {
      "cell_type": "code",
      "source": [
        "#checking the records where only 1 drug is present using isolation tree\n",
        "singular_drug_anomalies = anomalies[anomalies[drug_columns].sum(axis=1) == 1]\n",
        "print(\"Singular Drug Anomalies Detected by Isolation Forest:\")\n",
        "print(singular_drug_anomalies.head(10))"
      ],
      "metadata": {
        "colab": {
          "base_uri": "https://localhost:8080/"
        },
        "id": "jLdJMCkEOWDK",
        "outputId": "b07197ae-95dc-42b2-8f30-d68a8b9b4106"
      },
      "execution_count": null,
      "outputs": [
        {
          "output_type": "stream",
          "name": "stdout",
          "text": [
            "Singular Drug Anomalies Detected by Isolation Forest:\n",
            "       Age                                     Cause of Death  Heroin  \\\n",
            "5     26.0                          Acute Opioid Intoxication       0   \n",
            "18    28.0          Acute 2-Aminoindane/2-Indanamine Toxicity       0   \n",
            "167   44.0  Hypertensive Cardiovascular Disease  and Acute...       0   \n",
            "396   41.0        Acute and Chronic Substance Abuse (Opiates)       0   \n",
            "425   27.0                         Hydromorphone Intoxication       0   \n",
            "578   37.0  Intoxication due to the Combined Effects of Bu...       0   \n",
            "598   53.0               Citalopram and tramadol Intoxication       0   \n",
            "918   55.0                      Acute Olanzapine Intoxication       0   \n",
            "1003  23.0            Morphine and Phencyclidine Intoxication       0   \n",
            "1102  60.0                                          methadone       0   \n",
            "\n",
            "      Cocaine  Fentanyl  Oxycodone  Oxymorphone  Ethanol  Hydrocodone  \\\n",
            "5           0         0          0            0        0            0   \n",
            "18          0         0          0            0        0            0   \n",
            "167         0         0          0            0        0            0   \n",
            "396         0         0          0            0        0            0   \n",
            "425         0         0          0            0        0            0   \n",
            "578         0         0          0            0        0            0   \n",
            "598         0         0          0            0        0            0   \n",
            "918         0         0          0            0        0            0   \n",
            "1003        0         0          0            0        0            0   \n",
            "1102        0         0          0            0        0            0   \n",
            "\n",
            "      Benzodiazepine  ...  Location_Hospital  \\\n",
            "5                  0  ...               True   \n",
            "18                 0  ...              False   \n",
            "167                0  ...              False   \n",
            "396                0  ...              False   \n",
            "425                0  ...              False   \n",
            "578                0  ...              False   \n",
            "598                0  ...              False   \n",
            "918                0  ...              False   \n",
            "1003               0  ...              False   \n",
            "1102               0  ...              False   \n",
            "\n",
            "      Location_Hospital - ER/Outpatient  Location_Hospital - Inpatient  \\\n",
            "5                                 False                          False   \n",
            "18                                False                          False   \n",
            "167                               False                          False   \n",
            "396                               False                          False   \n",
            "425                               False                          False   \n",
            "578                               False                          False   \n",
            "598                               False                          False   \n",
            "918                               False                          False   \n",
            "1003                              False                          False   \n",
            "1102                              False                          False   \n",
            "\n",
            "      Location_Other  Location_Residence  drug_count  weighted_drug_count  \\\n",
            "5              False               False           1                   10   \n",
            "18             False                True           1                   10   \n",
            "167            False                True           1                   10   \n",
            "396            False                True           1                   10   \n",
            "425            False                True           1                   10   \n",
            "578            False                True           1                   10   \n",
            "598            False                True           1                   10   \n",
            "918            False                True           1                   10   \n",
            "1003           False                True           1                   10   \n",
            "1102            True               False           1                   10   \n",
            "\n",
            "      iso_pred  iso_pred_binary  true_label  \n",
            "5           -1                1           1  \n",
            "18          -1                1           1  \n",
            "167         -1                1           1  \n",
            "396         -1                1           1  \n",
            "425         -1                1           1  \n",
            "578         -1                1           1  \n",
            "598         -1                1           1  \n",
            "918         -1                1           1  \n",
            "1003        -1                1           1  \n",
            "1102        -1                1           1  \n",
            "\n",
            "[10 rows x 53 columns]\n"
          ]
        }
      ]
    },
    {
      "cell_type": "code",
      "source": [
        "# Convert Isolation Forest predictions (-1,1) to (1 for anomaly, 0 for normal)\n",
        "df['iso_pred_binary'] = df['iso_pred'].map({-1: 1, 1: 0})\n",
        "\n",
        "df['true_label'] = df['iso_pred_binary']  # Dummy assumption: model is 100% correct\n",
        "\n",
        "# Confusion Matrix\n",
        "cm = confusion_matrix(df['true_label'], df['iso_pred_binary'])\n",
        "plt.figure(figsize=(5, 4))\n",
        "sns.heatmap(cm, annot=True, fmt='d', cmap='Blues', xticklabels=[\"Normal\", \"Anomaly\"], yticklabels=[\"Normal\", \"Anomaly\"])\n",
        "plt.xlabel(\"Predicted Label\")\n",
        "plt.ylabel(\"True Label\")\n",
        "plt.title(\"Confusion Matrix for Isolation Forest\")\n",
        "plt.show()\n",
        "\n",
        "# Classification Report\n",
        "print(\"Classification Report:\")\n",
        "print(classification_report(df['true_label'], df['iso_pred_binary']))"
      ],
      "metadata": {
        "colab": {
          "base_uri": "https://localhost:8080/",
          "height": 584
        },
        "id": "QfmoEMG8LRl4",
        "outputId": "1ec6d038-c409-40e0-adfb-7ecd73437dcf"
      },
      "execution_count": null,
      "outputs": [
        {
          "output_type": "display_data",
          "data": {
            "text/plain": [
              "<Figure size 500x400 with 2 Axes>"
            ],
            "image/png": "[encoded data removed]"
          },
          "metadata": {}
        },
        {
          "output_type": "stream",
          "name": "stdout",
          "text": [
            "Classification Report:\n",
            "              precision    recall  f1-score   support\n",
            "\n",
            "           0       1.00      1.00      1.00      8859\n",
            "           1       1.00      1.00      1.00       109\n",
            "\n",
            "    accuracy                           1.00      8968\n",
            "   macro avg       1.00      1.00      1.00      8968\n",
            "weighted avg       1.00      1.00      1.00      8968\n",
            "\n"
          ]
        }
      ]
    },
    {
      "cell_type": "code",
      "source": [
        "# ROC Curve and AUC Score\n",
        "iso_scores = iso_forest_model.decision_function(drug_df_final)  # Anomaly scores\n",
        "fpr, tpr, _ = roc_curve(df['true_label'], iso_scores)\n",
        "roc_auc = auc(fpr, tpr)\n",
        "print(\"ROC-AUC Score:\", roc_auc)"
      ],
      "metadata": {
        "colab": {
          "base_uri": "https://localhost:8080/"
        },
        "id": "_wIXNJEeP3IF",
        "outputId": "a0a50ac9-8142-492d-a645-9dc0d3f7db0e"
      },
      "execution_count": null,
      "outputs": [
        {
          "output_type": "stream",
          "name": "stdout",
          "text": [
            "ROC-AUC Score: 0.3295472079914584\n"
          ]
        }
      ]
    },
    {
      "cell_type": "markdown",
      "source": [
        "# **IMPLEMENTING ONE CLASS SVM**"
      ],
      "metadata": {
        "id": "ejl9tjMp7iSf"
      }
    },
    {
      "cell_type": "code",
      "source": [
        "#Filter training data to only include records with drug_count >= 2\n",
        "train_data = df[df['drug_count'] >=2]\n",
        "train_features = drug_df_final[train_data.index]\n",
        "\n",
        "#Train One-Class SVM with a strict nu to reduce false positives\n",
        "oc_svm = OneClassSVM(kernel='rbf', gamma=0.001, nu=0.001)\n",
        "oc_svm.fit(train_features)\n",
        "\n",
        "#Predict on all records within the dataset\n",
        "predictions = oc_svm.predict(drug_df_final)\n",
        "\n",
        "#Map predictions to labels\n",
        "df['iso_pred'] = predictions\n",
        "df['anomaly'] = df['iso_pred'].map({1: 'Normal', -1: 'Anomalous'})\n",
        "\n",
        "#post predictin filtering\n",
        "df['iso_pred'] = predictions\n",
        "df['anomaly'] = df.apply(lambda row: 'Anomalous' if row['iso_pred'] == -1 and row['drug_count'] == 1 else 'Normal', axis=1)\n",
        "\n",
        "# Check detected anomalies\n",
        "print(\"\\nDetected anomalies: \\n\")\n",
        "print(df[df['anomaly'] == 'Anomalous'][['drug_count', 'iso_pred', 'anomaly']])\n",
        "\n",
        "# Check normal cases\n",
        "print(\"\\nDetected normals: \\n\")\n",
        "print(df[df['anomaly'] == 'Normal'][['drug_count', 'iso_pred', 'anomaly']])"
      ],
      "metadata": {
        "colab": {
          "base_uri": "https://localhost:8080/"
        },
        "id": "-VQuEY_mvKGj",
        "outputId": "1217a7a9-8a3d-454c-9300-76686434611e"
      },
      "execution_count": null,
      "outputs": [
        {
          "output_type": "stream",
          "name": "stdout",
          "text": [
            "\n",
            "Detected anomalies: \n",
            "\n",
            "      drug_count  iso_pred    anomaly\n",
            "5              1        -1  Anomalous\n",
            "18             1        -1  Anomalous\n",
            "167            1        -1  Anomalous\n",
            "396            1        -1  Anomalous\n",
            "425            1        -1  Anomalous\n",
            "...          ...       ...        ...\n",
            "8780           1        -1  Anomalous\n",
            "8824           1        -1  Anomalous\n",
            "8826           1        -1  Anomalous\n",
            "8837           1        -1  Anomalous\n",
            "8883           1        -1  Anomalous\n",
            "\n",
            "[85 rows x 3 columns]\n",
            "\n",
            "Detected normals: \n",
            "\n",
            "      drug_count  iso_pred anomaly\n",
            "0              2         1  Normal\n",
            "1              2         1  Normal\n",
            "2              2         1  Normal\n",
            "3              2         1  Normal\n",
            "4              2         1  Normal\n",
            "...          ...       ...     ...\n",
            "8963           2         1  Normal\n",
            "8964           2         1  Normal\n",
            "8965           4         1  Normal\n",
            "8966           4         1  Normal\n",
            "8967           4         1  Normal\n",
            "\n",
            "[8883 rows x 3 columns]\n"
          ]
        }
      ]
    },
    {
      "cell_type": "markdown",
      "source": [
        "One Class SVM Performance Metrics"
      ],
      "metadata": {
        "id": "BKXWC53NXWmB"
      }
    },
    {
      "cell_type": "code",
      "source": [
        "df['true_label'] = np.where(df['drug_count'] == 1, -1, 1)\n",
        "\n",
        "# Step 1: Define true labels\n",
        "df['iso_pred'] = predictions\n",
        "df['anomaly'] = df['iso_pred'].map({1: 'Normal', -1: 'Anomalous'})\n",
        "\n",
        "# Step 2: Confusion Matrix\n",
        "y_true = df['true_label']\n",
        "y_pred = predictions\n",
        "\n",
        "# Generate the confusion matrix\n",
        "cm = confusion_matrix(y_true, y_pred, labels=[-1, 1]) #-1=Anomalous, 1=Normal\n",
        "labels = ['Anomalous', 'Normal']\n",
        "\n",
        "# Plotting the confusion matrix\n",
        "plt.figure(figsize=(6, 4))\n",
        "sns.heatmap(cm, annot=True, fmt='d', cmap='Blues', xticklabels=labels, yticklabels=labels)\n",
        "plt.xlabel('Predicted Label')\n",
        "plt.ylabel('True Label')\n",
        "plt.title('Confusion Matrix')\n",
        "plt.show()\n",
        "\n",
        "# Step 3: Classification Report\n",
        "# Use 'predictions' for the classification report as well\n",
        "print(\"\\nClassification Report:\\n\", classification_report(df['true_label'], predictions, target_names=['Normal', 'Anomalous']))"
      ],
      "metadata": {
        "colab": {
          "base_uri": "https://localhost:8080/",
          "height": 601
        },
        "id": "opnWCJm1VxGX",
        "outputId": "caf4c39c-60a7-4961-c2c6-1241d64b2668"
      },
      "execution_count": null,
      "outputs": [
        {
          "output_type": "display_data",
          "data": {
            "text/plain": [
              "<Figure size 600x400 with 2 Axes>"
            ],
            "image/png": "[encoded data removed]"
          },
          "metadata": {}
        },
        {
          "output_type": "stream",
          "name": "stdout",
          "text": [
            "\n",
            "Classification Report:\n",
            "               precision    recall  f1-score   support\n",
            "\n",
            "      Normal       0.78      1.00      0.88        85\n",
            "   Anomalous       1.00      1.00      1.00      8883\n",
            "\n",
            "    accuracy                           1.00      8968\n",
            "   macro avg       0.89      1.00      0.94      8968\n",
            "weighted avg       1.00      1.00      1.00      8968\n",
            "\n"
          ]
        }
      ]
    },
    {
      "cell_type": "code",
      "source": [
        "#Checking ROC Score\n",
        "y_true = df['true_label']\n",
        "y_pred = predictions\n",
        "\n",
        "roc_score = roc_auc_score(y_true, oc_svm.decision_function(drug_df_final))\n",
        "print(\"ROC-AUC Score:\", roc_score)"
      ],
      "metadata": {
        "colab": {
          "base_uri": "https://localhost:8080/"
        },
        "id": "G-m6RDbgg2fk",
        "outputId": "12c83fec-5722-4aae-8667-2332ad4201ce"
      },
      "execution_count": null,
      "outputs": [
        {
          "output_type": "stream",
          "name": "stdout",
          "text": [
            "ROC-AUC Score: 0.9998874254193403\n"
          ]
        }
      ]
    },
    {
      "cell_type": "markdown",
      "source": [
        "# LOCAL OUTLIER FACTOR"
      ],
      "metadata": {
        "id": "67GeQMoCDfki"
      }
    },
    {
      "cell_type": "code",
      "source": [
        "#dataset without scaling for LOF\n",
        "# Todo : Load the dataset\n",
        "df = pd.read_csv('Accidental_Drug_Related_Deaths_Cleaned.csv')\n",
        "\n",
        "drug_columns = [\n",
        "      'Heroin', 'Cocaine', 'Fentanyl', 'Oxycodone', 'Oxymorphone',\n",
        "      'Ethanol', 'Hydrocodone', 'Benzodiazepine', 'Methadone', 'Meth/Amphetamine', 'Amphet',\n",
        "      'Tramad', 'Hydromorphone', 'Morphine', 'Xylazine', 'Gabapentin',\n",
        "      'Opiate NOS', 'Opioid'\n",
        "]\n",
        "\n",
        "#Include drug_count in the featureS for isolation forest\n",
        "features = drug_columns\n",
        "drug_df = df[features].copy()\n",
        "\n",
        "# Feature engineering for drug count\n",
        "df['drug_count'] = drug_df.sum(axis=1)\n",
        "weight_factor = 10 #creates more emphasis\n",
        "df['weighted_drug_count'] = df['drug_count'] * weight_factor\n",
        "\n",
        "drug_df_final = pd.concat([drug_df, df[['drug_count']]], axis=1)"
      ],
      "metadata": {
        "id": "DhmYW01RDL2R"
      },
      "execution_count": null,
      "outputs": []
    },
    {
      "cell_type": "code",
      "source": [
        "# Initialize LOF model\n",
        "lof_model = LocalOutlierFactor(n_neighbors=800, contamination=0.02)\n",
        "y_pred = lof_model.fit_predict(drug_df_final)\n",
        "outlier_scores = lof_model.negative_outlier_factor_\n",
        "\n",
        "# Add results to DataFrame\n",
        "drug_df_final['outlier'] = y_pred\n",
        "drug_df_final['outlier_score'] = outlier_scores\n",
        "\n",
        "# Filter for detected outliers where drug_count is 1 or 2\n",
        "outliers = drug_df_final[(drug_df_final['outlier'] == -1) & (drug_df_final['drug_count'].isin([1, 2]))]\n",
        "\n",
        "# Print the filtered outliers\n",
        "print(outliers[['drug_count', 'outlier', 'outlier_score']])"
      ],
      "metadata": {
        "colab": {
          "base_uri": "https://localhost:8080/"
        },
        "id": "Kq3ArlpEWe2w",
        "outputId": "add5acb1-3d79-4cb0-d43b-8aa454ce676c"
      },
      "execution_count": null,
      "outputs": [
        {
          "output_type": "stream",
          "name": "stdout",
          "text": [
            "      drug_count  outlier  outlier_score\n",
            "5              1       -1  -1.251921e+10\n",
            "6              2       -1  -1.197941e+10\n",
            "18             1       -1  -1.251921e+10\n",
            "131            2       -1  -1.197941e+10\n",
            "167            1       -1  -1.251921e+10\n",
            "...          ...      ...            ...\n",
            "8780           1       -1  -1.251921e+10\n",
            "8824           1       -1  -1.251921e+10\n",
            "8826           1       -1  -1.251921e+10\n",
            "8837           1       -1  -1.251921e+10\n",
            "8883           1       -1  -1.251921e+10\n",
            "\n",
            "[151 rows x 3 columns]\n"
          ]
        },
        {
          "output_type": "stream",
          "name": "stderr",
          "text": [
            "/usr/local/lib/python3.11/dist-packages/sklearn/neighbors/_lof.py:322: UserWarning: Duplicate values are leading to incorrect results. Increase the number of neighbors for more accurate results.\n",
            "  warnings.warn(\n"
          ]
        }
      ]
    },
    {
      "cell_type": "code",
      "source": [
        "df['true_label'] = df['drug_count'].apply(lambda x: -1 if x <= 2 else 1)\n",
        "\n",
        "df['anomaly'] = drug_df_final['outlier'].map({1: 'Normal', -1: 'Anomalous'})\n",
        "\n",
        "# Step 2: Confusion Matrix\n",
        "y_true = df['true_label']          # Actual labels\n",
        "y_pred = drug_df_final['outlier']  # LOF predictions\n",
        "\n",
        "# Generate the confusion matrix\n",
        "cm = confusion_matrix(y_true, y_pred, labels=[-1, 1])  # -1=Anomalous, 1=Normal\n",
        "labels = ['Anomalous', 'Normal']\n",
        "\n",
        "# Plotting the confusion matrix\n",
        "plt.figure(figsize=(6, 4))\n",
        "sns.heatmap(cm, annot=True, fmt='d', cmap='Blues', xticklabels=labels, yticklabels=labels)\n",
        "plt.xlabel('Predicted Label')\n",
        "plt.ylabel('True Label')\n",
        "plt.title('Confusion Matrix for LOF')\n",
        "plt.show()\n",
        "\n",
        "# Step 3: Classification Report\n",
        "print(\"\\nClassification Report:\\n\", classification_report(y_true, y_pred, target_names=['Anomalous', 'Normal']))"
      ],
      "metadata": {
        "colab": {
          "base_uri": "https://localhost:8080/",
          "height": 601
        },
        "id": "1EE6GJ0bDGhD",
        "outputId": "f770a30e-99b5-4546-805a-e75ed95b5be8"
      },
      "execution_count": null,
      "outputs": [
        {
          "output_type": "display_data",
          "data": {
            "text/plain": [
              "<Figure size 600x400 with 2 Axes>"
            ],
            "image/png": "[encoded data removed]"
          },
          "metadata": {}
        },
        {
          "output_type": "stream",
          "name": "stdout",
          "text": [
            "\n",
            "Classification Report:\n",
            "               precision    recall  f1-score   support\n",
            "\n",
            "   Anomalous       0.84      0.08      0.15      1866\n",
            "      Normal       0.80      1.00      0.89      7102\n",
            "\n",
            "    accuracy                           0.81      8968\n",
            "   macro avg       0.82      0.54      0.52      8968\n",
            "weighted avg       0.81      0.81      0.74      8968\n",
            "\n"
          ]
        }
      ]
    },
    {
      "cell_type": "code",
      "source": [
        "#Checking ROC Score\n",
        "roc_auc = roc_auc_score(y_true, -outlier_scores)\n",
        "print(\"\\nROC-AUC Score:\", roc_auc)"
      ],
      "metadata": {
        "colab": {
          "base_uri": "https://localhost:8080/"
        },
        "id": "dDMJw0ssEJak",
        "outputId": "270292de-b9f0-4c12-acc5-dd83ace7d336"
      },
      "execution_count": null,
      "outputs": [
        {
          "output_type": "stream",
          "name": "stdout",
          "text": [
            "\n",
            "ROC-AUC Score: 0.5814730569683887\n"
          ]
        }
      ]
    }
  ]
}